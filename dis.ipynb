{
 "cells": [
  {
   "cell_type": "code",
   "execution_count": 1,
   "metadata": {
    "collapsed": true,
    "ExecuteTime": {
     "end_time": "2023-06-21T19:35:13.711163500Z",
     "start_time": "2023-06-21T19:35:13.649664800Z"
    }
   },
   "outputs": [],
   "source": [
    "# %pip install russian-tagsets\n",
    "# %pip install sklearn-crfsuite\n",
    "# %pip install pymorphy2\n",
    "# %pip install conllu\n",
    "# %pip install scikit-learn==0.23.2"
   ]
  },
  {
   "cell_type": "code",
   "execution_count": 2,
   "outputs": [],
   "source": [
    "from russian_tagsets import converters\n",
    "from pymorphy2 import MorphAnalyzer\n",
    "import sklearn_crfsuite\n",
    "from sklearn_crfsuite import metrics\n",
    "from sklearn_crfsuite import CRF\n",
    "import conllu"
   ],
   "metadata": {
    "collapsed": false,
    "ExecuteTime": {
     "end_time": "2023-06-21T19:35:14.319135800Z",
     "start_time": "2023-06-21T19:35:13.670900100Z"
    }
   }
  },
  {
   "cell_type": "code",
   "execution_count": 3,
   "outputs": [],
   "source": [
    "m = MorphAnalyzer()\n",
    "to_ud = converters.converter('opencorpora-int', 'ud20')"
   ],
   "metadata": {
    "collapsed": false,
    "ExecuteTime": {
     "end_time": "2023-06-21T19:35:14.381349900Z",
     "start_time": "2023-06-21T19:35:14.321737100Z"
    }
   }
  },
  {
   "cell_type": "code",
   "execution_count": 4,
   "outputs": [],
   "source": [
    "ud_path = \"Universal Dependencies 2.12/ud-treebanks-v2.12/ud-treebanks-v2.12/UD_Russian-SynTagRus\""
   ],
   "metadata": {
    "collapsed": false,
    "ExecuteTime": {
     "end_time": "2023-06-21T19:35:14.398696500Z",
     "start_time": "2023-06-21T19:35:14.384401100Z"
    }
   }
  },
  {
   "cell_type": "code",
   "execution_count": 5,
   "outputs": [],
   "source": [
    "infile = open(ud_path+\"/ru_syntagrus-ud-train.conllu\", \"rt\", encoding=\"UTF8\")\n",
    "train_conllu_iter = conllu.parse_incr(infile)"
   ],
   "metadata": {
    "collapsed": false,
    "ExecuteTime": {
     "end_time": "2023-06-21T19:35:14.420819100Z",
     "start_time": "2023-06-21T19:35:14.401693Z"
    }
   }
  },
  {
   "cell_type": "markdown",
   "source": [
    "# Тренирую модель"
   ],
   "metadata": {
    "collapsed": false
   }
  },
  {
   "cell_type": "code",
   "execution_count": 26,
   "outputs": [],
   "source": [
    "def process_sentence(sent):\n",
    "    result = []\n",
    "    for token in sent:\n",
    "        try:\n",
    "            word = token['form']\n",
    "        except:\n",
    "            word = token\n",
    "        parses = m.parse(word)\n",
    "        top_3_parses = parses[:3]\n",
    "        ud_parses = []\n",
    "        for parse in top_3_parses:\n",
    "            ud_parse = to_ud(str(parse.tag))\n",
    "            parse_l = ud_parse.split()\n",
    "            lemma = parse.normal_form\n",
    "            upos = parse_l[0]\n",
    "            feats = parse_l[1]\n",
    "            ud_parses.append({'lemma': lemma, 'upos': upos, 'feats': feats})\n",
    "        result.append((word, ud_parses))\n",
    "    return result"
   ],
   "metadata": {
    "collapsed": false,
    "ExecuteTime": {
     "end_time": "2023-06-21T19:50:25.330498900Z",
     "start_time": "2023-06-21T19:50:25.309976900Z"
    }
   }
  },
  {
   "cell_type": "code",
   "execution_count": 8,
   "outputs": [],
   "source": [
    "def create_features(processed_sentence):\n",
    "    result = []\n",
    "    for pos in range(len(processed_sentence)):\n",
    "        word_features = {}\n",
    "        for j in range(-1, 2):\n",
    "            shift = pos + j\n",
    "            if 0 <= shift < len(processed_sentence):\n",
    "                word, ud_parses = processed_sentence[shift]\n",
    "                for k, parse in enumerate(ud_parses):\n",
    "                    prefix = f'{j}_{k}_'\n",
    "                    word_features[prefix + 'lemma'] = parse['lemma']\n",
    "                    word_features[prefix + 'upos'] = parse['upos']\n",
    "                    # word_features[prefix + 'feats'] = parse['feats']\n",
    "        result.append(word_features)\n",
    "    return result"
   ],
   "metadata": {
    "collapsed": false,
    "ExecuteTime": {
     "end_time": "2023-06-21T19:35:14.462229100Z",
     "start_time": "2023-06-21T19:35:14.446993600Z"
    }
   }
  },
  {
   "cell_type": "code",
   "execution_count": 9,
   "outputs": [],
   "source": [
    "X_train = []\n",
    "y_train = []"
   ],
   "metadata": {
    "collapsed": false,
    "ExecuteTime": {
     "end_time": "2023-06-21T19:35:14.484044100Z",
     "start_time": "2023-06-21T19:35:14.461167300Z"
    }
   }
  },
  {
   "cell_type": "code",
   "execution_count": 10,
   "outputs": [],
   "source": [
    "for idx, sent in enumerate(train_conllu_iter):\n",
    "    processed_sentence = process_sentence(sent)\n",
    "    sent_features = create_features(processed_sentence)\n",
    "    sent_labels = [token['upos'] for token in sent]\n",
    "    X_train.append(sent_features)\n",
    "    y_train.append(sent_labels)"
   ],
   "metadata": {
    "collapsed": false,
    "ExecuteTime": {
     "end_time": "2023-06-21T19:37:55.622730400Z",
     "start_time": "2023-06-21T19:35:14.490713700Z"
    }
   }
  },
  {
   "cell_type": "code",
   "execution_count": 11,
   "outputs": [
    {
     "data": {
      "text/plain": "[{'0_0_lemma': 'анкета',\n  '0_0_upos': 'NOUN',\n  '1_0_lemma': '.',\n  '1_0_upos': 'PUNCT'},\n {'-1_0_lemma': 'анкета',\n  '-1_0_upos': 'NOUN',\n  '0_0_lemma': '.',\n  '0_0_upos': 'PUNCT'}]"
     },
     "execution_count": 11,
     "metadata": {},
     "output_type": "execute_result"
    }
   ],
   "source": [
    "X_train[0]"
   ],
   "metadata": {
    "collapsed": false,
    "ExecuteTime": {
     "end_time": "2023-06-21T19:37:55.637158Z",
     "start_time": "2023-06-21T19:37:55.624723100Z"
    }
   }
  },
  {
   "cell_type": "code",
   "execution_count": 12,
   "outputs": [
    {
     "data": {
      "text/plain": "['NOUN', 'PUNCT']"
     },
     "execution_count": 12,
     "metadata": {},
     "output_type": "execute_result"
    }
   ],
   "source": [
    "y_train[0]"
   ],
   "metadata": {
    "collapsed": false,
    "ExecuteTime": {
     "end_time": "2023-06-21T19:37:55.683858900Z",
     "start_time": "2023-06-21T19:37:55.639157Z"
    }
   }
  },
  {
   "cell_type": "code",
   "execution_count": 13,
   "outputs": [],
   "source": [
    "testfile = open(ud_path+\"/ru_syntagrus-ud-test.conllu\", \"rt\", encoding=\"UTF8\")\n",
    "test_conllu_iter = conllu.parse_incr(testfile)"
   ],
   "metadata": {
    "collapsed": false,
    "ExecuteTime": {
     "end_time": "2023-06-21T19:37:55.687785200Z",
     "start_time": "2023-06-21T19:37:55.655050700Z"
    }
   }
  },
  {
   "cell_type": "code",
   "execution_count": 14,
   "outputs": [],
   "source": [
    "X_test, y_test = [], []"
   ],
   "metadata": {
    "collapsed": false,
    "ExecuteTime": {
     "end_time": "2023-06-21T19:37:55.688782700Z",
     "start_time": "2023-06-21T19:37:55.671546200Z"
    }
   }
  },
  {
   "cell_type": "code",
   "execution_count": 15,
   "outputs": [],
   "source": [
    "for idx, sent in enumerate(test_conllu_iter):\n",
    "    processed_sentence = process_sentence(sent)\n",
    "    sent_features = create_features(processed_sentence)\n",
    "    sent_labels = [token['upos'] for token in sent]\n",
    "    X_test.append(sent_features)\n",
    "    y_test.append(sent_labels)"
   ],
   "metadata": {
    "collapsed": false,
    "ExecuteTime": {
     "end_time": "2023-06-21T19:38:16.009761Z",
     "start_time": "2023-06-21T19:37:55.685783200Z"
    }
   }
  },
  {
   "cell_type": "code",
   "execution_count": 16,
   "outputs": [],
   "source": [
    "# Создаем экземпляр CRF модели\n",
    "crf = CRF(\n",
    "    algorithm='lbfgs',\n",
    "    c1=0.1,\n",
    "    c2=0.1,\n",
    "    max_iterations=100,\n",
    "    all_possible_transitions=True\n",
    ")"
   ],
   "metadata": {
    "collapsed": false,
    "ExecuteTime": {
     "end_time": "2023-06-21T19:38:16.026040300Z",
     "start_time": "2023-06-21T19:38:16.010759500Z"
    }
   }
  },
  {
   "cell_type": "code",
   "execution_count": 17,
   "outputs": [],
   "source": [
    "# for sent_features, sent_labels in zip(X_train, y_train):\n",
    "#     for word_features, word_label in zip(sent_features, sent_labels):\n",
    "#         if None in word_features.values() or word_label is None:\n",
    "#             print(\"Found None value:\", word_features, word_label)\n",
    "#             break\n",
    "#         break"
   ],
   "metadata": {
    "collapsed": false,
    "ExecuteTime": {
     "end_time": "2023-06-21T19:38:16.043537Z",
     "start_time": "2023-06-21T19:38:16.026713700Z"
    }
   }
  },
  {
   "cell_type": "code",
   "execution_count": 18,
   "outputs": [
    {
     "name": "stderr",
     "output_type": "stream",
     "text": [
      "C:\\Users\\robst\\anaconda3\\envs\\disamig\\lib\\site-packages\\sklearn\\base.py:213: FutureWarning: From version 0.24, get_params will raise an AttributeError if a parameter cannot be retrieved as an instance attribute. Previously it would return None.\n",
      "  FutureWarning)\n"
     ]
    },
    {
     "data": {
      "text/plain": "CRF(algorithm='lbfgs', all_possible_transitions=True, c1=0.1, c2=0.1,\n    keep_tempfiles=None, max_iterations=100)"
     },
     "execution_count": 18,
     "metadata": {},
     "output_type": "execute_result"
    }
   ],
   "source": [
    "# Обучаем модель\n",
    "crf.fit(X_train, y_train)"
   ],
   "metadata": {
    "collapsed": false,
    "ExecuteTime": {
     "end_time": "2023-06-21T19:40:13.871568700Z",
     "start_time": "2023-06-21T19:38:16.042537300Z"
    }
   }
  },
  {
   "cell_type": "code",
   "execution_count": 19,
   "outputs": [],
   "source": [
    "# Предсказываем метки для тестовых данных (пример)\n",
    "y_pred = crf.predict(X_test)"
   ],
   "metadata": {
    "collapsed": false,
    "ExecuteTime": {
     "end_time": "2023-06-21T19:40:14.481088200Z",
     "start_time": "2023-06-21T19:40:13.866962900Z"
    }
   }
  },
  {
   "cell_type": "code",
   "execution_count": 20,
   "outputs": [
    {
     "name": "stderr",
     "output_type": "stream",
     "text": [
      "C:\\Users\\robst\\anaconda3\\envs\\disamig\\lib\\site-packages\\sklearn\\utils\\validation.py:70: FutureWarning: Pass labels=['NOUN', 'PUNCT', 'ADJ', 'PROPN', 'AUX', 'VERB', 'ADP', 'ADV', 'CCONJ', 'PART', 'PRON', 'DET', 'SCONJ', 'NUM', '_', 'INTJ', 'X', 'SYM'] as keyword args. From version 0.25 passing these as positional arguments will result in an error\n",
      "  FutureWarning)\n"
     ]
    },
    {
     "name": "stdout",
     "output_type": "stream",
     "text": [
      "              precision    recall  f1-score   support\n",
      "\n",
      "        NOUN      0.972     0.987     0.979     36568\n",
      "       PUNCT      1.000     1.000     1.000     29463\n",
      "         ADJ      0.949     0.964     0.956     14471\n",
      "       PROPN      0.931     0.812     0.867      5883\n",
      "         AUX      0.935     0.943     0.939      1518\n",
      "        VERB      0.984     0.984     0.984     18146\n",
      "         ADP      0.999     0.999     0.999     15062\n",
      "         ADV      0.940     0.948     0.944      8085\n",
      "       CCONJ      0.962     0.978     0.969      5736\n",
      "        PART      0.933     0.898     0.916      4921\n",
      "        PRON      0.956     0.953     0.954      8015\n",
      "         DET      0.928     0.897     0.912      4094\n",
      "       SCONJ      0.899     0.948     0.923      2992\n",
      "         NUM      0.946     0.931     0.938      2528\n",
      "           _      1.000     1.000     1.000       271\n",
      "        INTJ      0.824     0.609     0.700        23\n",
      "           X      0.368     0.292     0.326        48\n",
      "         SYM      0.994     1.000     0.997       165\n",
      "\n",
      "    accuracy                          0.970    157989\n",
      "   macro avg      0.918     0.897     0.906    157989\n",
      "weighted avg      0.970     0.970     0.970    157989\n",
      "\n"
     ]
    }
   ],
   "source": [
    "print(metrics.flat_classification_report(\n",
    "    y_test, y_pred, labels=crf.classes_, digits=3\n",
    "))"
   ],
   "metadata": {
    "collapsed": false,
    "ExecuteTime": {
     "end_time": "2023-06-21T19:40:15.317169900Z",
     "start_time": "2023-06-21T19:40:14.491085700Z"
    }
   }
  },
  {
   "cell_type": "markdown",
   "source": [
    "# Снятие омонимии"
   ],
   "metadata": {
    "collapsed": false
   }
  },
  {
   "cell_type": "code",
   "execution_count": 33,
   "outputs": [],
   "source": [
    "def disambiguate_sentence(sentence, crf):\n",
    "    processed_sentence = process_sentence(sentence.split())\n",
    "    sent_features = create_features(processed_sentence)\n",
    "    predicted_labels = crf.predict_single(sent_features)\n",
    "    result = []\n",
    "    for word, label in zip(sentence.split(), predicted_labels):\n",
    "        result.append((word, label))\n",
    "    return result"
   ],
   "metadata": {
    "collapsed": false,
    "ExecuteTime": {
     "end_time": "2023-06-21T19:51:31.434832Z",
     "start_time": "2023-06-21T19:51:31.423831500Z"
    }
   }
  },
  {
   "cell_type": "code",
   "execution_count": 34,
   "outputs": [],
   "source": [
    "sentence = \"Мама мыла раму\""
   ],
   "metadata": {
    "collapsed": false,
    "ExecuteTime": {
     "end_time": "2023-06-21T19:51:31.858850200Z",
     "start_time": "2023-06-21T19:51:31.841001200Z"
    }
   }
  },
  {
   "cell_type": "code",
   "execution_count": 35,
   "outputs": [
    {
     "data": {
      "text/plain": "[('Мама', 'NOUN'), ('мыла', 'VERB'), ('раму', 'NOUN')]"
     },
     "execution_count": 35,
     "metadata": {},
     "output_type": "execute_result"
    }
   ],
   "source": [
    "disambiguated_sentence = disambiguate_sentence(sentence, crf)\n",
    "disambiguated_sentence"
   ],
   "metadata": {
    "collapsed": false,
    "ExecuteTime": {
     "end_time": "2023-06-21T19:51:32.138180900Z",
     "start_time": "2023-06-21T19:51:32.126189600Z"
    }
   }
  }
 ],
 "metadata": {
  "kernelspec": {
   "display_name": "Python 3",
   "language": "python",
   "name": "python3"
  },
  "language_info": {
   "codemirror_mode": {
    "name": "ipython",
    "version": 2
   },
   "file_extension": ".py",
   "mimetype": "text/x-python",
   "name": "python",
   "nbconvert_exporter": "python",
   "pygments_lexer": "ipython2",
   "version": "2.7.6"
  }
 },
 "nbformat": 4,
 "nbformat_minor": 0
}
